{
 "cells": [
  {
   "cell_type": "code",
   "execution_count": null,
   "metadata": {},
   "outputs": [
    {
     "name": "stdout",
     "output_type": "stream",
     "text": [
      "Кластеры: {0: ['Apache Kafka'], 1: ['Kafka']}\n",
      "Переименованные навыки: ['Apache Kafka', 'Kafka']\n"
     ]
    }
   ],
   "source": [
    "from sentence_transformers import SentenceTransformer\n",
    "import numpy as np\n",
    "from sklearn.metrics.pairwise import cosine_similarity\n",
    "from scipy.spatial.distance import squareform\n",
    "from scipy.sparse.csgraph import connected_components\n",
    "from collections import Counter\n"
   ]
  },
  {
   "cell_type": "code",
   "execution_count": null,
   "metadata": {},
   "outputs": [],
   "source": [
    "df = "
   ]
  },
  {
   "cell_type": "code",
   "execution_count": null,
   "metadata": {},
   "outputs": [],
   "source": [
    "# Шаг 1: Ваши данные\n",
    "skills = [\"JavaScript\", \"JS\", \"Java\", \"Python3\", \"Python\", \"C++\", \"C#\", \"Django\", \"Django Framework\"]\n",
    "frequencies = {\"JavaScript\": 50, \"JS\": 30, \"Java\": 40, \"Python3\": 35, \"Python\": 70, \n",
    "               \"C++\": 20, \"C#\": 25, \"Django\": 15, \"Django Framework\": 10}\n",
    "\n",
    "# Шаг 2: Модели\n",
    "model_names = [\n",
    "    \"sentence-transformers/all-MiniLM-L6-v2\",\n",
    "    \"sentence-transformers/all-mpnet-base-v2\",\n",
    "    \"sentence-transformers/paraphrase-multilingual-MiniLM-L12-v2\",\n",
    "    \"sentence-transformers/paraphrase-multilingual-mpnet-base-v2\",\n",
    "    \"sentence-transformers/all-MiniLM-L12-v2\",\n",
    "    \"sentence-transformers/multi-qa-mpnet-base-dot-v1\",\n",
    "    \"sentence-transformers/multi-qa-MiniLM-L6-cos-v1\",\n",
    "    \"sentence-transformers/paraphrase-MiniLM-L6-v2\"\n",
    "]\n",
    "\n",
    "# Шаг 3: Загрузка моделей\n",
    "models = [SentenceTransformer(model_name) for model_name in model_names]\n",
    "\n",
    "# Шаг 4: Создание эмбеддингов\n",
    "embeddings_by_model = [model.encode(skills, convert_to_tensor=False) for model in models]\n",
    "\n",
    "# Шаг 5: Рассчет сходства\n",
    "similarity_matrices = [\n",
    "    cosine_similarity(embeddings) for embeddings in embeddings_by_model\n",
    "]\n",
    "\n",
    "# Шаг 6: Итоговая матрица сходства\n",
    "similarity_threshold = 0.85\n",
    "final_similarity_matrix = np.zeros_like(similarity_matrices[0])\n",
    "for sim_matrix in similarity_matrices:\n",
    "    final_similarity_matrix = np.maximum(final_similarity_matrix, sim_matrix)\n",
    "\n",
    "# Бинаризация (пороговое значение)\n",
    "binary_similarity_matrix = (final_similarity_matrix >= similarity_threshold).astype(int)\n",
    "\n",
    "# Шаг 7: Кластеризация с помощью связного графа\n",
    "_, labels = connected_components(csgraph=binary_similarity_matrix, directed=False)\n",
    "\n",
    "# Шаг 8: Группировка по кластерам\n",
    "clusters = {i: [] for i in range(len(set(labels)))}\n",
    "for skill, label in zip(skills, labels):\n",
    "    clusters[label].append(skill)\n",
    "\n",
    "# Шаг 9: Замена на самый популярный элемент\n",
    "result_mapping = {}\n",
    "for cluster_id, cluster_skills in clusters.items():\n",
    "    # Считаем частоту навыков в кластере\n",
    "    cluster_frequencies = {skill: frequencies.get(skill, 0) for skill in cluster_skills}\n",
    "    # Находим самый популярный навык\n",
    "    most_popular_skill = max(cluster_frequencies, key=cluster_frequencies.get)\n",
    "    # Присваиваем всем элементам кластера это название\n",
    "    for skill in cluster_skills:\n",
    "        result_mapping[skill] = most_popular_skill\n",
    "\n",
    "# Шаг 10: Преобразование данных\n",
    "renamed_skills = [result_mapping[skill] for skill in skills]\n",
    "\n",
    "# Вывод\n",
    "print(\"Кластеры:\", clusters)\n",
    "print(\"Переименованные навыки:\", renamed_skills)"
   ]
  }
 ],
 "metadata": {
  "kernelspec": {
   "display_name": ".venv",
   "language": "python",
   "name": "python3"
  },
  "language_info": {
   "codemirror_mode": {
    "name": "ipython",
    "version": 3
   },
   "file_extension": ".py",
   "mimetype": "text/x-python",
   "name": "python",
   "nbconvert_exporter": "python",
   "pygments_lexer": "ipython3",
   "version": "3.12.1"
  }
 },
 "nbformat": 4,
 "nbformat_minor": 2
}
